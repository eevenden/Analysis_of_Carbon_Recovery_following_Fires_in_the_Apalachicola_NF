{
 "cells": [
  {
   "cell_type": "code",
   "execution_count": 1,
   "metadata": {},
   "outputs": [],
   "source": [
    "#Title: Creating and Cleaning A Pandas Dataframe made of Multiple Geospatial Raster Layers - Florida Fire Study\n",
    "#Author: Emily Evenden\n",
    "#Date: May 22, 2020\n",
    "\n",
    "'''\n",
    "The purpose of this script to to use advanced Python packages to create a dataframe from multiple geospatial raster layers. \n",
    "The dataframe will then be used for data visualization and regression analysis. The aim of this analysis is to see how\n",
    "fire severity impacts net ecosystem productivity recovery and aboveground biomass regrowth following fire disturbances.\n",
    "\n",
    "The raster layers come from the 'Forest Carbon Stocks and Fluxes After Disturbance, Southeastern USA, 1990-2010' dataset available \n",
    "through the Oak Ridge National Laboratory. Specifically, the purpose of this script to create a dataframe from 8 raster layers \n",
    "inclduing: Aboveground Biomass (Kg C m-2) at 1990, 2000, and 2010; Net Ecosystem Productivity (g C m-2) at 1990, 2000, and 2010; \n",
    "Forest Type; and Year of Fire Disturbance.\n",
    "\n",
    "The raster layer were preprocessed using TerrSet prior to using them in this script. All layers have a have an AlbersUS83 projection\n",
    "and have a 30m resolution.\n",
    "''''\n",
    "\n",
    "#Import packages\n",
    "#Numpy is used to make arrays\n",
    "import numpy as np\n",
    "#Pandas can used Numpy arrays to create dataframes\n",
    "import pandas as pd\n",
    "#PIL is used to open image files to obtain pixel values\n",
    "from PIL import Image\n",
    "#OS allows the user to set the working folder\n",
    "import os"
   ]
  },
  {
   "cell_type": "code",
   "execution_count": null,
   "metadata": {},
   "outputs": [],
   "source": [
    "#Set working directory\n",
    "dir = os.chdir(\"C:\\\\Users\\\\Emily\\\\Documents\\\\Summer_2020\\\\Py_DataScience_and_MachineLearning\\\\original\\\\FL_Script\\\\Python_FL_Project\\\\Python_FL_Project\")"
   ]
  },
  {
   "cell_type": "code",
   "execution_count": 3,
   "metadata": {
    "scrolled": true
   },
   "outputs": [
    {
     "name": "stdout",
     "output_type": "stream",
     "text": [
      "[[0 0 0 ... 0 0 0]\n",
      " [0 0 0 ... 0 0 0]\n",
      " [0 0 0 ... 0 0 0]\n",
      " ...\n",
      " [0 0 0 ... 0 0 0]\n",
      " [0 0 0 ... 0 0 0]\n",
      " [0 0 0 ... 0 0 0]]\n"
     ]
    }
   ],
   "source": [
    "#This line deactivates the zip bomb safety in Python 3. Because I am working with large files, I want to deactivate the size limit imposed by the zip bomb check.\n",
    "Image.MAX_IMAGE_PIXELS = None\n",
    "\n",
    "#This section opens each TIFF as an array and assigns them to a variable. Because I already preprocessed the spatial data the images are all the same size.\n",
    "#AGB = Aboveground Biomass\n",
    "#NEP = Net Ecosystem Productivity\n",
    "#Forest Type = Numeric Code for Forest Type\n",
    "#Burn Year = # of Years after 1970 when the area was burned\n",
    "\n",
    "AGB_2010 = np.asarray(Image.open('Smaller_FL_agb_2010.tif'))\n",
    "AGB_2000 = np.asarray(Image.open('Smaller_FL_agb_2000.tif'))\n",
    "AGB_1990 = np.asarray(Image.open('Smaller_FL_agb_1990.tif'))\n",
    "Forest_Type = np.asarray(Image.open('Smaller_FL_forest_group_NAFD.tif'))\n",
    "NEP_1990 = np.asarray(Image.open('Smaller_FL_nep_1990.tif'))\n",
    "NEP_2000 = np.asarray(Image.open('Smaller_FL_nep_2000.tif'))\n",
    "NEP_2010 = np.asarray(Image.open('Smaller_FL_nep_2010.tif'))\n",
    "Burn_Year = np.asarray(Image.open('Smaller_FL_years_disturb_MTSB.tif'))\n",
    "\n",
    "#Check point to make sure it works \n",
    "print('Ok')\n",
    "\n"
   ]
  },
  {
   "cell_type": "code",
   "execution_count": 4,
   "metadata": {},
   "outputs": [
    {
     "name": "stdout",
     "output_type": "stream",
     "text": [
      "Ok\n"
     ]
    }
   ],
   "source": [
    "#This section flattens each array so the 2D data is converted to 1D data. This allows each raster layer to become a column in the dataframe.\n",
    "\n",
    "FL_AGB_1990 = AGB_1990.flatten()\n",
    "FL_AGB_2000 = AGB_2000.flatten()\n",
    "FL_AGB_2010 = AGB_2010.flatten()\n",
    "FL_Forest_Type = Forest_Type.flatten()\n",
    "FL_NEP_1990 = NEP_1990.flatten()\n",
    "FL_NEP_2000 = NEP_2000.flatten()\n",
    "FL_NEP_2010 = NEP_2010.flatten()\n",
    "FL_Burn_Year = Burn_Year.flatten()\n",
    "\n",
    "#Check point\n",
    "print('Ok')\n"
   ]
  },
  {
   "cell_type": "code",
   "execution_count": 5,
   "metadata": {},
   "outputs": [],
   "source": [
    "#Here I stack all of the flattened arrays and transpose them into vertical columns. This creates a larger 2D array, FL_arr, from the multiple 1D arrays.\n",
    "FL_arr = np.vstack([FL_AGB_1990, FL_AGB_2000, FL_AGB_2010, FL_Forest_Type, FL_NEP_1990, FL_NEP_2000, FL_NEP_2010, FL_Burn_Year]).T"
   ]
  },
  {
   "cell_type": "code",
   "execution_count": 6,
   "metadata": {},
   "outputs": [
    {
     "name": "stdout",
     "output_type": "stream",
     "text": [
      "         AGB_1990  AGB_2000  AGB_2010  Forest_Type  NEP_1990  NEP_2000  \\\n",
      "0            3082      4995      1521          160       158       188   \n",
      "1            2684      4660      1331          160       154       182   \n",
      "2            2294      4406      1331          160       152       178   \n",
      "3            3016      4981      1324          160       158       185   \n",
      "4            3016      4981      1324          160       158       185   \n",
      "...           ...       ...       ...          ...       ...       ...   \n",
      "8447371         0         0         0            0         0         0   \n",
      "8447372         0         0         0            0         0         0   \n",
      "8447373         0         0         0            0         0         0   \n",
      "8447374         0         0         0            0         0         0   \n",
      "8447375         0         0         0            0         0         0   \n",
      "\n",
      "         NEP_2010  Burn_Year  \n",
      "0             157          0  \n",
      "1             134          0  \n",
      "2             134          0  \n",
      "3             164          0  \n",
      "4             164          0  \n",
      "...           ...        ...  \n",
      "8447371         0          0  \n",
      "8447372         0          0  \n",
      "8447373         0          0  \n",
      "8447374         0          0  \n",
      "8447375         0          0  \n",
      "\n",
      "[8447376 rows x 8 columns]\n"
     ]
    }
   ],
   "source": [
    "#I created a Pandas dataframe from the vertically stacked 2D array, FL_arr, and assigned column names.\n",
    "FL_Data = pd.DataFrame(FL_arr, columns=['AGB_1990', 'AGB_2000','AGB_2010', 'Forest_Type', 'NEP_1990', 'NEP_2000', 'NEP_2010', 'Burn_Year'])\n",
    "#Check point\n",
    "print (FL_Data)\n"
   ]
  },
  {
   "cell_type": "code",
   "execution_count": 8,
   "metadata": {},
   "outputs": [
    {
     "name": "stdout",
     "output_type": "stream",
     "text": [
      "         AGB_1990  AGB_2000  AGB_2010  Forest_Type  NEP_1990  NEP_2000  \\\n",
      "2421         3111      4180      1833          140       114       123   \n",
      "2422         4320      5064      1897          140       120       109   \n",
      "2423         3826      4693      1897          140       121       117   \n",
      "2424         4260      1091      2049          140       121     -1105   \n",
      "2428         3985      4820      1897          140       121       115   \n",
      "...           ...       ...       ...          ...       ...       ...   \n",
      "8445220      3653      4603      5268          140       119       116   \n",
      "8445221      3576      4551      5217          140       119       117   \n",
      "8445222      4092      4920      1741          140       121       113   \n",
      "8445223      4649      1073      2195          140       116      -410   \n",
      "8445230      3428      4465      1128          140       120       120   \n",
      "\n",
      "         NEP_2010  Burn_Year  \n",
      "2421           80         39  \n",
      "2422           43         39  \n",
      "2423           43         39  \n",
      "2424           47         39  \n",
      "2428           43         39  \n",
      "...           ...        ...  \n",
      "8445220       102         39  \n",
      "8445221       103         39  \n",
      "8445222        41         39  \n",
      "8445223        52         39  \n",
      "8445230        13         39  \n",
      "\n",
      "[900045 rows x 8 columns]\n"
     ]
    }
   ],
   "source": [
    "#Now that the dataframe is created, I want to remove rows that are not necessary for the analysis.\n",
    "#First, I want to remove pixels which did not experience fire, or had fires which occured before or at 1990 and at 2010. \n",
    "#This will leave only pixels which burned between 1991 - 2009.\n",
    "\n",
    "#First, I identified all unique values for Burn_Year to see whether there are pixels that occured outside of my target time interval.\n",
    "FL_Data['Burn_Year'].unique()\n",
    "#The only years outside of my target time interval are 0 (No fire), 16 (1986), 20 (1990), and 40 (2010).\n",
    "FL_Data = FL_Data[(FL_Data.Burn_Year != 0) & (FL_Data.Burn_Year != 16) & (FL_Data.Burn_Year != 20) & (FL_Data.Burn_Year != 40)]\n",
    "#Check that pixels with unwanted years were removed\n",
    "FL_Data['Burn_Year'].unique()"
   ]
  },
  {
   "cell_type": "code",
   "execution_count": 31,
   "metadata": {},
   "outputs": [
    {
     "name": "stdout",
     "output_type": "stream",
     "text": [
      "         AGB_1990  AGB_2000  AGB_2010          Forest_Type  NEP_1990  \\\n",
      "1463294      3170      1676       487  Longleaf/Slash Pine       114   \n",
      "1972945      3026      1937       548  Longleaf/Slash Pine       107   \n",
      "1975549      3026      1937       548  Longleaf/Slash Pine       107   \n",
      "1980760      3205      1833       541  Longleaf/Slash Pine       114   \n",
      "1989370      3133      1672       566  Longleaf/Slash Pine       113   \n",
      "...           ...       ...       ...                  ...       ...   \n",
      "8005996      3138      1584       456  Longleaf/Slash Pine       114   \n",
      "8008594      3110      1542       456  Longleaf/Slash Pine       113   \n",
      "8008595      3110      1542       456  Longleaf/Slash Pine       113   \n",
      "8011199      3111      1795       456  Longleaf/Slash Pine       112   \n",
      "8011200      3063      1807       566  Longleaf/Slash Pine       110   \n",
      "\n",
      "         NEP_2000  NEP_2010  Burn_Year  Minus_90_00  Minus_00_10  Date  \\\n",
      "1463294        80        70         36         1494         1189  2006   \n",
      "1972945        82       190         36         1089         1389  2006   \n",
      "1975549        82       190         36         1089         1389  2006   \n",
      "1980760        80       239         36         1372         1292  2006   \n",
      "1989370        80      -945         38         1461         1106  2008   \n",
      "...           ...       ...        ...          ...          ...   ...   \n",
      "8005996        80      -224         39         1554         1128  2009   \n",
      "8008594        82      -224         39         1568         1086  2009   \n",
      "8008595        82      -224         39         1568         1086  2009   \n",
      "8011199        81      -224         39         1316         1339  2009   \n",
      "8011200        81      -945         39         1256         1241  2009   \n",
      "\n",
      "         Burn_Scar_Age  Burn_Severity Severity_Label  \n",
      "1463294              4      70.942721         Severe  \n",
      "1972945              4      71.708828         Severe  \n",
      "1975549              4      71.708828         Severe  \n",
      "1980760              4      70.485543         Severe  \n",
      "1989370              2      66.148325       Moderate  \n",
      "...                ...            ...            ...  \n",
      "8005996              1      71.212121         Severe  \n",
      "8008594              1      70.428016         Severe  \n",
      "8008595              1      70.428016         Severe  \n",
      "8011199              1      74.596100         Severe  \n",
      "8011200              1      68.677366       Moderate  \n",
      "\n",
      "[2324 rows x 14 columns]\n"
     ]
    }
   ],
   "source": [
    "'''\n",
    "Now I want to limit th dataframe to pixels which have less aboveground following a fire event. Though this is not necessarily\n",
    "scientifically sound decision, my professor and I realized there may be a lot of edge pixels which are considered burned but don't\n",
    "follow expected trends when looking at the AGB and NEP layers.\n",
    "'''\n",
    "\n",
    "#Here, I create two columns to find the difference in AGB between 1990 & 2000 and 2000 & 2010.\n",
    "FL_Data['Minus_90_00'] = FL_Data['AGB_1990'] - FL_Data['AGB_2000']\n",
    "FL_Data['Minus_00_10'] = FL_Data['AGB_2000'] - FL_Data['AGB_2010']\n",
    "#I only select pixels here the net change in AGB between 1990 - 2000 or 2000 - 2010 is positive. (This means there's less AGB in the second time point).\n",
    "FL_Data = FL_Data[(FL_Data.Minus_90_00 > 0) | (FL_Data.Minus_00_10 > 0)]\n",
    "\n",
    "#Here, I created two more columns to show the date of the fire and it's age at 2010.\n",
    "FL_Data['Date'] = 1970 + FL_Data['Burn_Year'] \n",
    "FL_Data['Burn_Scar_Age'] = 40 - FL_Data['Burn_Year']\n",
    "\n",
    "#Check\n",
    "print (FL_Data)"
   ]
  },
  {
   "cell_type": "code",
   "execution_count": 10,
   "metadata": {},
   "outputs": [
    {
     "name": "stdout",
     "output_type": "stream",
     "text": [
      "ok\n",
      "         AGB_1990  AGB_2000  AGB_2010  Forest_Type  NEP_1990  NEP_2000  \\\n",
      "1463294      3170      1676       487          140       114        80   \n",
      "1972945      3026      1937       548          140       107        82   \n",
      "1975549      3026      1937       548          140       107        82   \n",
      "1980760      3205      1833       541          140       114        80   \n",
      "1989370      3133      1672       566          140       113        80   \n",
      "...           ...       ...       ...          ...       ...       ...   \n",
      "8005996      3138      1584       456          140       114        80   \n",
      "8008594      3110      1542       456          140       113        82   \n",
      "8008595      3110      1542       456          140       113        82   \n",
      "8011199      3111      1795       456          140       112        81   \n",
      "8011200      3063      1807       566          140       110        81   \n",
      "\n",
      "         NEP_2010  Burn_Year  Minus_90_00  Minus_00_10  Date  Burn_Scar_Age  \\\n",
      "1463294        70         36         1494         1189  2006              4   \n",
      "1972945       190         36         1089         1389  2006              4   \n",
      "1975549       190         36         1089         1389  2006              4   \n",
      "1980760       239         36         1372         1292  2006              4   \n",
      "1989370      -945         38         1461         1106  2008              2   \n",
      "...           ...        ...          ...          ...   ...            ...   \n",
      "8005996      -224         39         1554         1128  2009              1   \n",
      "8008594      -224         39         1568         1086  2009              1   \n",
      "8008595      -224         39         1568         1086  2009              1   \n",
      "8011199      -224         39         1316         1339  2009              1   \n",
      "8011200      -945         39         1256         1241  2009              1   \n",
      "\n",
      "         Burn_Severity  \n",
      "1463294      70.942721  \n",
      "1972945      71.708828  \n",
      "1975549      71.708828  \n",
      "1980760      70.485543  \n",
      "1989370      66.148325  \n",
      "...                ...  \n",
      "8005996      71.212121  \n",
      "8008594      70.428016  \n",
      "8008595      70.428016  \n",
      "8011199      74.596100  \n",
      "8011200      68.677366  \n",
      "\n",
      "[2324 rows x 13 columns]\n"
     ]
    }
   ],
   "source": [
    "#I want to create categorize the pixel as having a burn severity of High, Medium, and Low. I decided the assign these labels based on the percent of aboveground biomass lost by a pixel following a fire.\n",
    "#First, I created a new column calculating the percent aboveground biomass lost. For pixel burned before 2001, I calculated this using AGB_1990 and AGB_2000.\n",
    "FL_Data['Burn_Severity'] = ((FL_Data['AGB_1990']-FL_Data['AGB_2000'])/FL_Data['AGB_1990']*100)\n",
    "#However, for pixels burned from 2001 - 2009, I want to calculate the percent of AGB lost using the AGB 2000 and AGB 2010 columns. In this case, I replaced the values in 'Burn_Severity' for select rows based on their date.\n",
    "FL_Data.loc[(FL_Data.Date>2000), 'Burn_Severity'] = ((FL_Data['AGB_2000']-FL_Data['AGB_2010'])/FL_Data['AGB_2000']*100)\n",
    "#Check point\n",
    "print (FL_Data)"
   ]
  },
  {
   "cell_type": "code",
   "execution_count": 11,
   "metadata": {},
   "outputs": [
    {
     "name": "stdout",
     "output_type": "stream",
     "text": [
      "         AGB_1990  AGB_2000  AGB_2010  Forest_Type  NEP_1990  NEP_2000  \\\n",
      "1463294      3170      1676       487          140       114        80   \n",
      "1972945      3026      1937       548          140       107        82   \n",
      "1975549      3026      1937       548          140       107        82   \n",
      "1980760      3205      1833       541          140       114        80   \n",
      "1989370      3133      1672       566          140       113        80   \n",
      "...           ...       ...       ...          ...       ...       ...   \n",
      "8005996      3138      1584       456          140       114        80   \n",
      "8008594      3110      1542       456          140       113        82   \n",
      "8008595      3110      1542       456          140       113        82   \n",
      "8011199      3111      1795       456          140       112        81   \n",
      "8011200      3063      1807       566          140       110        81   \n",
      "\n",
      "         NEP_2010  Burn_Year  Minus_90_00  Minus_00_10  Date  Burn_Scar_Age  \\\n",
      "1463294        70         36         1494         1189  2006              4   \n",
      "1972945       190         36         1089         1389  2006              4   \n",
      "1975549       190         36         1089         1389  2006              4   \n",
      "1980760       239         36         1372         1292  2006              4   \n",
      "1989370      -945         38         1461         1106  2008              2   \n",
      "...           ...        ...          ...          ...   ...            ...   \n",
      "8005996      -224         39         1554         1128  2009              1   \n",
      "8008594      -224         39         1568         1086  2009              1   \n",
      "8008595      -224         39         1568         1086  2009              1   \n",
      "8011199      -224         39         1316         1339  2009              1   \n",
      "8011200      -945         39         1256         1241  2009              1   \n",
      "\n",
      "         Burn_Severity Severity_Label  \n",
      "1463294      70.942721         Severe  \n",
      "1972945      71.708828         Severe  \n",
      "1975549      71.708828         Severe  \n",
      "1980760      70.485543         Severe  \n",
      "1989370      66.148325       Moderate  \n",
      "...                ...            ...  \n",
      "8005996      71.212121         Severe  \n",
      "8008594      70.428016         Severe  \n",
      "8008595      70.428016         Severe  \n",
      "8011199      74.596100         Severe  \n",
      "8011200      68.677366       Moderate  \n",
      "\n",
      "[2324 rows x 14 columns]\n"
     ]
    }
   ],
   "source": [
    "#After creating a numeric variable to measure burn severity, I want to place pixels into categorical bins.\n",
    "#First I create list of categorical bins\n",
    "bs_labels = ['Low', 'Moderate', 'Severe']\n",
    "#Then I assign custom bounds for the intervals.\n",
    "cut_bins = [0, 30, 70, 100]\n",
    "#I used the pd.cut function to create a new variable which places each pixel into a categorical bin based on it 'Burn_Severity' value.\n",
    "FL_Data['Severity_Label'] = pd.cut(FL_Data['Burn_Severity'], bins=cut_bins, labels=bs_labels)\n",
    "#Check point\n",
    "print (FL_Data)"
   ]
  },
  {
   "cell_type": "code",
   "execution_count": 29,
   "metadata": {},
   "outputs": [
    {
     "name": "stdout",
     "output_type": "stream",
     "text": [
      "         AGB_1990  AGB_2000  AGB_2010          Forest_Type  NEP_1990  \\\n",
      "1463294      3170      1676       487  Longleaf/Slash Pine       114   \n",
      "1972945      3026      1937       548  Longleaf/Slash Pine       107   \n",
      "1975549      3026      1937       548  Longleaf/Slash Pine       107   \n",
      "1980760      3205      1833       541  Longleaf/Slash Pine       114   \n",
      "1989370      3133      1672       566  Longleaf/Slash Pine       113   \n",
      "...           ...       ...       ...                  ...       ...   \n",
      "8005996      3138      1584       456  Longleaf/Slash Pine       114   \n",
      "8008594      3110      1542       456  Longleaf/Slash Pine       113   \n",
      "8008595      3110      1542       456  Longleaf/Slash Pine       113   \n",
      "8011199      3111      1795       456  Longleaf/Slash Pine       112   \n",
      "8011200      3063      1807       566  Longleaf/Slash Pine       110   \n",
      "\n",
      "         NEP_2000  NEP_2010  Burn_Year  Minus_90_00  Minus_00_10  Date  \\\n",
      "1463294        80        70         36         1494         1189  2006   \n",
      "1972945        82       190         36         1089         1389  2006   \n",
      "1975549        82       190         36         1089         1389  2006   \n",
      "1980760        80       239         36         1372         1292  2006   \n",
      "1989370        80      -945         38         1461         1106  2008   \n",
      "...           ...       ...        ...          ...          ...   ...   \n",
      "8005996        80      -224         39         1554         1128  2009   \n",
      "8008594        82      -224         39         1568         1086  2009   \n",
      "8008595        82      -224         39         1568         1086  2009   \n",
      "8011199        81      -224         39         1316         1339  2009   \n",
      "8011200        81      -945         39         1256         1241  2009   \n",
      "\n",
      "         Burn_Scar_Age  Burn_Severity Severity_Label  \n",
      "1463294              4      70.942721         Severe  \n",
      "1972945              4      71.708828         Severe  \n",
      "1975549              4      71.708828         Severe  \n",
      "1980760              4      70.485543         Severe  \n",
      "1989370              2      66.148325       Moderate  \n",
      "...                ...            ...            ...  \n",
      "8005996              1      71.212121         Severe  \n",
      "8008594              1      70.428016         Severe  \n",
      "8008595              1      70.428016         Severe  \n",
      "8011199              1      74.596100         Severe  \n",
      "8011200              1      68.677366       Moderate  \n",
      "\n",
      "[2324 rows x 14 columns]\n"
     ]
    }
   ],
   "source": [
    "#Finally, I want to replace the numeric codes signifying 'Forest_Type' with descriptive str labels because it's more intuitive to read.\n",
    "#First I create a list of the str forest type names\n",
    "forest_type_list = ['White/Red/Jack Pine', 'Spruce/Fir', 'Longleaf/Slash Pine', 'Loblolly/Shortleaf Pine', 'Pinyon/Juniper', 'Oak/Pine', 'Oak/Hickory', 'Oak/Gum/Cypress', 'Elm/Ash/Cottonwood', 'Maple/Beech/Birch', 'Tropical Hardwoods', 'Exotic Hardwoods']\n",
    "#Then, I create a list of the values associated with each name\n",
    "code_list = [100, 120, 140, 160, 180, 400, 500, 600, 700, 800, 980, 990]\n",
    "#Finally, I create a dictionary which associates each value with a str label.\n",
    "forest_dict = dict(zip(code_list, forest_type_list))\n",
    "# To rplace the numeric code Forest Type with the str label, I used the .replace function.\n",
    "FL_Data['Forest_Type'].replace(forest_dict, inplace=True)\n",
    "#Check point\n",
    "print (FL_Data)\n",
    "\n",
    "#Now my dataframe is ready for further analysis.\n"
   ]
  },
  {
   "cell_type": "code",
   "execution_count": null,
   "metadata": {},
   "outputs": [],
   "source": []
  }
 ],
 "metadata": {
  "kernelspec": {
   "display_name": "Python 3",
   "language": "python",
   "name": "python3"
  },
  "language_info": {
   "codemirror_mode": {
    "name": "ipython",
    "version": 3
   },
   "file_extension": ".py",
   "mimetype": "text/x-python",
   "name": "python",
   "nbconvert_exporter": "python",
   "pygments_lexer": "ipython3",
   "version": "3.8.2"
  }
 },
 "nbformat": 4,
 "nbformat_minor": 4
}
